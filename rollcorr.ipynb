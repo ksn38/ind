{
 "cells": [
  {
   "cell_type": "code",
   "execution_count": 15,
   "metadata": {},
   "outputs": [],
   "source": [
    "import pandas as pd\n",
    "import numpy as np\n",
    "import matplotlib.pyplot as plt"
   ]
  },
  {
   "cell_type": "code",
   "execution_count": 16,
   "metadata": {},
   "outputs": [],
   "source": [
    "vix = [25.35, 23.1 , 22.45, 22.71, 23.84, 23.11, 23.7 , 22.66, 21.64, 21.25, 20.84, 20.57, 20.77, 21.17, 21.28, 20.79, 21.3 , 20.68, 22.27, 22.52]\n",
    "sp500 = [3537.01, 3585.15, 3626.91, 3609.53, 3567.79, 3581.87, 3557.54, 3577.59, 3635.41, 3629.65, 3638.35, 3621.63, 3662.45, 3669.01, 3666.72, 3699.12, 3691.96, 3702.25, 3672.82, 3668.1]"
   ]
  },
  {
   "cell_type": "code",
   "execution_count": 17,
   "metadata": {},
   "outputs": [],
   "source": [
    "df = pd.DataFrame({'sp': sp500, 'vi': vix})"
   ]
  },
  {
   "cell_type": "code",
   "execution_count": 18,
   "metadata": {},
   "outputs": [
    {
     "data": {
      "text/plain": [
       "0     NaN\n",
       "1    -1.0\n",
       "2    -1.0\n",
       "3    -1.0\n",
       "4    -1.0\n",
       "5    -1.0\n",
       "6    -1.0\n",
       "7    -1.0\n",
       "8    -1.0\n",
       "9     1.0\n",
       "10   -1.0\n",
       "11    1.0\n",
       "12    1.0\n",
       "13    1.0\n",
       "14   -1.0\n",
       "15   -1.0\n",
       "16   -1.0\n",
       "17   -1.0\n",
       "18   -1.0\n",
       "19   -1.0\n",
       "dtype: float64"
      ]
     },
     "execution_count": 18,
     "metadata": {},
     "output_type": "execute_result"
    },
    {
     "data": {
      "image/png": "[encoded data removed]",
      "text/plain": [
       "<Figure size 432x288 with 1 Axes>"
      ]
     },
     "metadata": {
      "needs_background": "light"
     },
     "output_type": "display_data"
    }
   ],
   "source": [
    "rollcorr = df.sp.rolling(window=2).corr(df.vi)\n",
    "plt.plot(rollcorr)\n",
    "rollcorr"
   ]
  },
  {
   "cell_type": "code",
   "execution_count": null,
   "metadata": {},
   "outputs": [],
   "source": []
  }
 ],
 "metadata": {
  "kernelspec": {
   "display_name": "Python 3",
   "language": "python",
   "name": "python3"
  },
  "language_info": {
   "codemirror_mode": {
    "name": "ipython",
    "version": 3
   },
   "file_extension": ".py",
   "mimetype": "text/x-python",
   "name": "python",
   "nbconvert_exporter": "python",
   "pygments_lexer": "ipython3",
   "version": "3.7.2"
  }
 },
 "nbformat": 4,
 "nbformat_minor": 4
}
